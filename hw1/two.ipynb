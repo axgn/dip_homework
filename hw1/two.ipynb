{
 "cells": [
  {
   "cell_type": "code",
   "execution_count": 6,
   "id": "905b31c1",
   "metadata": {},
   "outputs": [],
   "source": [
    "from math import floor\n",
    "import numpy as np\n",
    "from PIL import Image\n",
    "import matplotlib.pyplot as plt\n",
    "\n",
    "scale_number = 2\n",
    "\n",
    "def load_image(image_path):\n",
    "    with Image.open(image_path) as img:\n",
    "        img = img.convert(\"RGB\")\n",
    "        return np.array(img)\n",
    "\n",
    "def save_image(after_process_img):\n",
    "    img = Image.fromarray(after_process_img,mode=\"RGB\")\n",
    "    img.save(f\"处理后图片{scale_number}x{scale_number}.jpg\")\n",
    "\n",
    "def bilinear_interpolation(raw_pic : np.ndarray,mul_width,mul_height):\n",
    "    h, w = raw_pic.shape\n",
    "    new_h,new_w = h * mul_height,w * mul_width\n",
    "    scale_h = (h - 1) / (new_h - 1)\n",
    "    scale_w = (w - 1) / (new_w - 1)\n",
    "    result = np.zeros((new_h,new_w))\n",
    "    for i in range(new_h):\n",
    "        for j in range(new_w):\n",
    "            y0, x0 = floor(scale_h * i),floor(scale_w * j)\n",
    "            y1, x1 = min(y0 + 1,h - 1),min(x0 + 1,w - 1)\n",
    "            dy = scale_h * i - y0\n",
    "            dx = scale_w * j - x0\n",
    "            w11,w01,w10,w00 = dy * dx,(1 - dy) * dx,dy * (1 - dx),(1 - dy) * (1 - dx)\n",
    "            result[i,j] = w11 * raw_pic[y1, x1] + w01 * raw_pic[y0, x1] + w10 * raw_pic[y1, x0] + w00 * raw_pic[y0, x0]\n",
    "    return result\n",
    "\n",
    "\n",
    "arr = load_image(\"原图.jpg\")\n",
    "channels = [arr[:,:,0],arr[:,:,1],arr[:,:,2]]\n",
    "result = []\n",
    "for ch in channels:\n",
    "    result.append(bilinear_interpolation(ch,scale_number,scale_number))\n",
    "result = np.dstack(result)\n",
    "result = np.clip(result, 0, 255).astype(np.uint8)\n",
    "save_image(result)"
   ]
  },
  {
   "cell_type": "code",
   "execution_count": 7,
   "id": "46010c5d",
   "metadata": {},
   "outputs": [],
   "source": [
    "from scipy.ndimage import zoom\n",
    "\n",
    "def save_image(after_process_img):\n",
    "    img = Image.fromarray(after_process_img, mode=\"RGB\")\n",
    "    img.save(f\"处理后图片_scipy{scale_number}x{scale_number}.jpg\")\n",
    "\n",
    "arr = load_image(\"原图.jpg\")\n",
    "result = zoom(arr, (scale_number,scale_number, 1), order=1)\n",
    "result = np.clip(result, 0, 255).astype(np.uint8)\n",
    "save_image(result)"
   ]
  }
 ],
 "metadata": {
  "kernelspec": {
   "display_name": "Python 3",
   "language": "python",
   "name": "python3"
  },
  "language_info": {
   "codemirror_mode": {
    "name": "ipython",
    "version": 3
   },
   "file_extension": ".py",
   "mimetype": "text/x-python",
   "name": "python",
   "nbconvert_exporter": "python",
   "pygments_lexer": "ipython3",
   "version": "3.13.0"
  }
 },
 "nbformat": 4,
 "nbformat_minor": 5
}
